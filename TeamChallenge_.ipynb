{
  "nbformat": 4,
  "nbformat_minor": 0,
  "metadata": {
    "colab": {
      "provenance": [],
      "include_colab_link": true
    },
    "kernelspec": {
      "name": "python3",
      "display_name": "Python 3"
    },
    "language_info": {
      "name": "python"
    }
  },
  "cells": [
    {
      "cell_type": "markdown",
      "metadata": {
        "id": "view-in-github",
        "colab_type": "text"
      },
      "source": [
        "<a href=\"https://colab.research.google.com/github/akosinyll1404/CPE311/blob/main/TeamChallenge_.ipynb\" target=\"_parent\"><img src=\"https://colab.research.google.com/assets/colab-badge.svg\" alt=\"Open In Colab\"/></a>"
      ]
    },
    {
      "cell_type": "markdown",
      "source": [
        "class wolf\n",
        "---\n",
        "class cabbage\n",
        "---\n",
        "class sheep\n",
        "---\n",
        "SWC -- > S -- > River\n",
        "WC <--- S River\n",
        "W --> C --> SC River\n",
        "w <---S--C River\n",
        "S---> w---> C river\n",
        "----> S--- WC River\n",
        "----> CWS"
      ],
      "metadata": {
        "id": "-VNOknoG6OkZ"
      }
    },
    {
      "cell_type": "code",
      "source": [],
      "metadata": {
        "id": "0QL10qhc7a7k"
      },
      "execution_count": null,
      "outputs": []
    },
    {
      "cell_type": "code",
      "execution_count": 3,
      "metadata": {
        "id": "NpQbnl2j6MDA"
      },
      "outputs": [],
      "source": [
        "\n",
        "class Sheep:\n",
        "\n",
        "  def __init__(self,name):\n",
        "    self.name = name\n",
        "\n",
        "\n",
        "class Cabbage:\n",
        "\n",
        "  def __init__(self,name):\n",
        "    self.name = name\n",
        "\n",
        "class Wolf:\n",
        "\n",
        "  def __init__(self,name):\n",
        "    self.name = name\n",
        "\n",
        "class Person:\n",
        "  def __init__(self,name):\n",
        "    self.name = name"
      ]
    },
    {
      "cell_type": "code",
      "source": [
        "s = Sheep(\"sheep\")\n",
        "w = Sheep(\"sheep\")\n",
        "f = Sheep(\"sheep\")\n",
        "c = Cabbage(\"sheep\")"
      ],
      "metadata": {
        "id": "lSUZy_CWCwO4"
      },
      "execution_count": null,
      "outputs": []
    }
  ]
}