{
  "cells": [
    {
      "cell_type": "markdown",
      "metadata": {
        "id": "view-in-github",
        "colab_type": "text"
      },
      "source": [
        "<a href=\"https://colab.research.google.com/github/akosinyll1404/CPE311/blob/main/De_los_Reyes_Hands_on_Activity_1_1_Optimization_and_Knapsack_Problem_1.ipynb\" target=\"_parent\"><img src=\"https://colab.research.google.com/assets/colab-badge.svg\" alt=\"Open In Colab\"/></a>"
      ]
    },
    {
      "cell_type": "markdown",
      "id": "193686ba",
      "metadata": {
        "id": "193686ba"
      },
      "source": [
        "# Hands-on Activity 1.1 | Optimization and Knapsack Problem"
      ]
    },
    {
      "cell_type": "markdown",
      "id": "8d87e989",
      "metadata": {
        "id": "8d87e989"
      },
      "source": [
        "#### Objective(s):\n",
        "\n",
        "This activity aims to demonstrate how to apply  greedy and brute force algorithms to solve optimization problems"
      ]
    },
    {
      "cell_type": "markdown",
      "id": "7717a27a",
      "metadata": {
        "id": "7717a27a"
      },
      "source": [
        "#### Intended Learning Outcomes (ILOs):\n",
        "* Demonstrate how to solve knapsacks problems using greedy algorithm\n",
        "* Demonstrate how to  solve knapsacks problems using brute force algorithm\n"
      ]
    },
    {
      "cell_type": "markdown",
      "id": "6454cfe7",
      "metadata": {
        "id": "6454cfe7"
      },
      "source": [
        "#### Resources:\n",
        "* Jupyter Notebook\n"
      ]
    },
    {
      "cell_type": "markdown",
      "id": "433711ac",
      "metadata": {
        "id": "433711ac"
      },
      "source": [
        "#### Procedures:"
      ]
    },
    {
      "cell_type": "markdown",
      "id": "e54a8995",
      "metadata": {
        "id": "e54a8995"
      },
      "source": [
        "1. Create a Food class that defines the following:\n",
        "* name of the food\n",
        "* value of the food\n",
        "* calories of the food\n",
        "\n",
        "2. Create the following methods inside the Food class:\n",
        "* A method that returns the value of the food\n",
        "* A method that returns the cost of the food\n",
        "* A method that calculates the density of the food (Value / Cost)\n",
        "* A method that returns a string to display the name, value and calories of the food"
      ]
    },
    {
      "cell_type": "code",
      "execution_count": null,
      "id": "cdd8310c",
      "metadata": {
        "id": "cdd8310c"
      },
      "outputs": [],
      "source": [
        "class Food(object):\n",
        "    def __init__(self, n, v, w,g):\n",
        "        #make variables private\n",
        "        self.name = n\n",
        "        self.value = v\n",
        "        self.calories = w\n",
        "        self.gram = g\n",
        "    def getValue(self):\n",
        "        return self.value\n",
        "    def getCost(self):\n",
        "        return self.calories\n",
        "    def getGram(self): #2. get the weight of the item\n",
        "        return self.gram\n",
        "    def density(self):\n",
        "        return self.getValue()/self.getCost()\n",
        "    def __str__(self):\n",
        "        return self.name + ': <' + str(self.value)+ ', ' + str(self.calories) + '>'"
      ]
    },
    {
      "cell_type": "markdown",
      "id": "b36eee15",
      "metadata": {
        "id": "b36eee15"
      },
      "source": [
        "3. Create a buildMenu method that builds the name, value and calories of the food\n"
      ]
    },
    {
      "cell_type": "code",
      "execution_count": null,
      "id": "509672a4",
      "metadata": {
        "id": "509672a4"
      },
      "outputs": [],
      "source": [
        "def buildMenu(names, values, calories,gram):\n",
        "    menu = []\n",
        "    for i in range(len(values)):\n",
        "        menu.append(Food(names[i], values[i],calories[i],gram[i]))\n",
        "    return menu"
      ]
    },
    {
      "cell_type": "markdown",
      "id": "86f3a85b",
      "metadata": {
        "id": "86f3a85b"
      },
      "source": [
        "4. Create a method greedy to return total value and cost of added food based on the desired maximum cost"
      ]
    },
    {
      "cell_type": "code",
      "execution_count": null,
      "id": "b76912f0",
      "metadata": {
        "id": "b76912f0"
      },
      "outputs": [],
      "source": [
        "def greedy(items, maxCost, keyFunction):\n",
        "    \"\"\"Assumes items a list, maxCost >= 0,         keyFunction maps elements of items to numbers\"\"\"\n",
        "    itemsCopy = sorted(items, key = keyFunction,\n",
        "                       reverse = True)\n",
        "    result = []\n",
        "    totalValue, totalCost = 0.0, 0.0\n",
        "    for i in range(len(itemsCopy)):\n",
        "        if (totalCost+itemsCopy[i].getCost()) <= maxCost:\n",
        "            result.append(itemsCopy[i])\n",
        "            totalCost += itemsCopy[i].getCost()\n",
        "            totalValue += itemsCopy[i].getValue()\n",
        "    return (result, totalValue)"
      ]
    },
    {
      "cell_type": "markdown",
      "id": "887c566c",
      "metadata": {
        "id": "887c566c"
      },
      "source": [
        "5. Create a testGreedy method to test the greedy method"
      ]
    },
    {
      "cell_type": "code",
      "execution_count": null,
      "id": "61f2a7b0",
      "metadata": {
        "id": "61f2a7b0"
      },
      "outputs": [],
      "source": [
        "def testGreedy(items, constraint, keyFunction):\n",
        "    taken, val = greedy(items, constraint, keyFunction)\n",
        "    print('Total value of items taken =', val)\n",
        "    for item in taken:\n",
        "        print('   ', item)"
      ]
    },
    {
      "cell_type": "code",
      "execution_count": null,
      "id": "f93e5bfe",
      "metadata": {
        "id": "f93e5bfe"
      },
      "outputs": [],
      "source": [
        "def testGreedys(foods, maxUnits):\n",
        "    print('Use greedy by value to allocate', maxUnits,          'calories')\n",
        "    testGreedy(foods, maxUnits, Food.getValue)\n",
        "    print('\\nUse greedy by cost to allocate', maxUnits,          'calories')\n",
        "    testGreedy(foods, maxUnits, lambda x: 1/Food.getCost(x))\n",
        "    print('\\nUse greedy by density to allocate', maxUnits,          'calories')\n",
        "    testGreedy(foods, maxUnits, Food.density)\n",
        "    print('/nUse greedy by weight to allocate',maxUnits,            'calories') #2\n",
        "    testGreedy(foods,maxUnits,Food.getGram)"
      ]
    },
    {
      "cell_type": "markdown",
      "id": "cdf99f37",
      "metadata": {
        "id": "cdf99f37"
      },
      "source": [
        "6. Create arrays of food name, values and calories\n",
        "7. Call the buildMenu to create menu for food\n",
        "8. Use testGreedys method to pick food according to the desired calories"
      ]
    },
    {
      "cell_type": "code",
      "execution_count": null,
      "id": "ee22c2dd",
      "metadata": {
        "id": "ee22c2dd",
        "outputId": "131b7e08-fdf9-4217-9662-03b8245ac56a",
        "colab": {
          "base_uri": "https://localhost:8080/"
        }
      },
      "outputs": [
        {
          "output_type": "stream",
          "name": "stdout",
          "text": [
            "Use greedy by value to allocate 2000 calories\n",
            "Total value of items taken = 688.0\n",
            "    burger: <100, 354>\n",
            "    pizza: <95, 258>\n",
            "    beer: <90, 154>\n",
            "    fries: <90, 365>\n",
            "    wine: <89, 123>\n",
            "    cake: <85, 220>\n",
            "    cola: <79, 150>\n",
            "    apple: <50, 95>\n",
            "    donut: <10, 195>\n",
            "\n",
            "Use greedy by cost to allocate 2000 calories\n",
            "Total value of items taken = 688.0\n",
            "    apple: <50, 95>\n",
            "    wine: <89, 123>\n",
            "    cola: <79, 150>\n",
            "    beer: <90, 154>\n",
            "    donut: <10, 195>\n",
            "    cake: <85, 220>\n",
            "    pizza: <95, 258>\n",
            "    burger: <100, 354>\n",
            "    fries: <90, 365>\n",
            "\n",
            "Use greedy by density to allocate 2000 calories\n",
            "Total value of items taken = 688.0\n",
            "    wine: <89, 123>\n",
            "    beer: <90, 154>\n",
            "    cola: <79, 150>\n",
            "    apple: <50, 95>\n",
            "    cake: <85, 220>\n",
            "    pizza: <95, 258>\n",
            "    burger: <100, 354>\n",
            "    fries: <90, 365>\n",
            "    donut: <10, 195>\n",
            "/nUse greedy by weight to allocate 2000 calories\n",
            "Total value of items taken = 688.0\n",
            "    cola: <79, 150>\n",
            "    wine: <89, 123>\n",
            "    pizza: <95, 258>\n",
            "    apple: <50, 95>\n",
            "    beer: <90, 154>\n",
            "    cake: <85, 220>\n",
            "    donut: <10, 195>\n",
            "    fries: <90, 365>\n",
            "    burger: <100, 354>\n"
          ]
        }
      ],
      "source": [
        "names = ['wine', 'beer', 'pizza', 'burger', 'fries','cola', 'apple', 'donut', 'cake']\n",
        "values = [89,90,95,100,90,79,50,10,85] #in this code I add 1 value particulary to the cake since it has no value\n",
        "calories = [123,154,258,354,365,150,95,195,220] #in this code I add 1 calories particulary to the cake since it has no indicated value\n",
        "gram = [907,350,860,113,150,1000,400,160,220]\n",
        "foods = buildMenu(names, values, calories,gram)\n",
        "testGreedys(foods, 2000)"
      ]
    },
    {
      "cell_type": "markdown",
      "id": "a6bae808",
      "metadata": {
        "id": "a6bae808"
      },
      "source": [
        "Task 1: Change the maxUnits to 100"
      ]
    },
    {
      "cell_type": "code",
      "execution_count": null,
      "id": "3c9655c5",
      "metadata": {
        "id": "3c9655c5",
        "colab": {
          "base_uri": "https://localhost:8080/"
        },
        "outputId": "9e8f9a41-b541-4d9f-f57b-8f31da12e9b7"
      },
      "outputs": [
        {
          "output_type": "stream",
          "name": "stdout",
          "text": [
            "Use greedy by value to allocate 100 calories\n",
            "Total value of items taken = 50.0\n",
            "    apple: <50, 95>\n",
            "\n",
            "Use greedy by cost to allocate 100 calories\n",
            "Total value of items taken = 50.0\n",
            "    apple: <50, 95>\n",
            "\n",
            "Use greedy by density to allocate 100 calories\n",
            "Total value of items taken = 50.0\n",
            "    apple: <50, 95>\n"
          ]
        }
      ],
      "source": [
        "#type your code here\n",
        "testGreedys(foods, 100)"
      ]
    },
    {
      "cell_type": "markdown",
      "id": "d13f4bdc",
      "metadata": {
        "id": "d13f4bdc"
      },
      "source": [
        "Task 2: Modify codes to add additional weight (criterion) to select food items."
      ]
    },
    {
      "cell_type": "code",
      "execution_count": null,
      "id": "61fd22fa",
      "metadata": {
        "id": "61fd22fa"
      },
      "outputs": [],
      "source": [
        "# type your code here\n",
        "class Food(object):\n",
        "    def __init__(self, n, v, w,g):\n",
        "        #make variables private\n",
        "        self.name = n\n",
        "        self.value = v\n",
        "        self.calories = w\n",
        "        self.gram = g\n",
        "    def getValue(self):\n",
        "        return self.value\n",
        "    def getCost(self):\n",
        "        return self.calories\n",
        "    def getGram(self): #2. get the weight of the item\n",
        "        return self.gram\n",
        "    def density(self):\n",
        "        return self.getValue()/self.getCost()\n",
        "    def __str__(self):\n",
        "        return self.name + ': <' + str(self.value)+ ', ' + str(self.calories) + ', ' + str(self.gram) + '>'"
      ]
    },
    {
      "cell_type": "code",
      "source": [
        "def buildMenu(names, values, calories,gram):\n",
        "    menu = []\n",
        "    for i in range(len(values)):\n",
        "        menu.append(Food(names[i], values[i],calories[i],gram[i]))\n",
        "    return menu"
      ],
      "metadata": {
        "id": "NC6BY-Cx5X8v"
      },
      "id": "NC6BY-Cx5X8v",
      "execution_count": null,
      "outputs": []
    },
    {
      "cell_type": "code",
      "source": [
        "def greedy(items, maxCost, keyFunction):\n",
        "    \"\"\"Assumes items a list, maxCost >= 0,         keyFunction maps elements of items to numbers\"\"\"\n",
        "    itemsCopy = sorted(items, key = keyFunction,\n",
        "                       reverse = True)\n",
        "    result = []\n",
        "    totalValue, totalCost = 0.0, 0.0\n",
        "    for i in range(len(itemsCopy)):\n",
        "        if (totalCost+itemsCopy[i].getCost()) <= maxCost:\n",
        "            result.append(itemsCopy[i])\n",
        "            totalCost += itemsCopy[i].getCost()\n",
        "            totalValue += itemsCopy[i].getValue()\n",
        "    return (result, totalValue)"
      ],
      "metadata": {
        "id": "Ovkwq9q85bd_"
      },
      "id": "Ovkwq9q85bd_",
      "execution_count": null,
      "outputs": []
    },
    {
      "cell_type": "code",
      "source": [
        "def testGreedy(items, constraint, keyFunction):\n",
        "    taken, val = greedy(items, constraint, keyFunction)\n",
        "    print('Total value of items taken =', val)\n",
        "    for item in taken:\n",
        "        print('   ', item)\n",
        "\n",
        "def testGreedys(foods, maxUnits):\n",
        "    print('Use greedy by value to allocate', maxUnits,          'calories')\n",
        "    testGreedy(foods, maxUnits, Food.getValue)\n",
        "    print('\\nUse greedy by cost to allocate', maxUnits,          'calories')\n",
        "    testGreedy(foods, maxUnits, lambda x: 1/Food.getCost(x))\n",
        "    print('\\nUse greedy by density to allocate', maxUnits,          'calories')\n",
        "    testGreedy(foods, maxUnits, Food.density)\n",
        "    print('\\nUse greedy by weight to allocate',maxUnits,            'calories') #2\n",
        "    testGreedy(foods,maxUnits, Food.getGram)"
      ],
      "metadata": {
        "id": "ETzAFcGL5fE_"
      },
      "id": "ETzAFcGL5fE_",
      "execution_count": null,
      "outputs": []
    },
    {
      "cell_type": "markdown",
      "id": "ba95a8c6",
      "metadata": {
        "id": "ba95a8c6"
      },
      "source": [
        "Task 3: Test your modified code to test the greedy algorithm to select food items with your additional weight."
      ]
    },
    {
      "cell_type": "code",
      "execution_count": null,
      "id": "9d9b25c1",
      "metadata": {
        "id": "9d9b25c1",
        "colab": {
          "base_uri": "https://localhost:8080/"
        },
        "outputId": "e51e4801-0cb3-4557-cf24-eb6771f2810c"
      },
      "outputs": [
        {
          "output_type": "stream",
          "name": "stdout",
          "text": [
            "Use greedy by value to allocate 2000 calories\n",
            "Total value of items taken = 688.0\n",
            "    burger: <100, 354, 113>\n",
            "    pizza: <95, 258, 860>\n",
            "    beer: <90, 154, 350>\n",
            "    fries: <90, 365, 150>\n",
            "    wine: <89, 123, 907>\n",
            "    cake: <85, 220, 220>\n",
            "    cola: <79, 150, 1000>\n",
            "    apple: <50, 95, 400>\n",
            "    donut: <10, 195, 160>\n",
            "\n",
            "Use greedy by cost to allocate 2000 calories\n",
            "Total value of items taken = 688.0\n",
            "    apple: <50, 95, 400>\n",
            "    wine: <89, 123, 907>\n",
            "    cola: <79, 150, 1000>\n",
            "    beer: <90, 154, 350>\n",
            "    donut: <10, 195, 160>\n",
            "    cake: <85, 220, 220>\n",
            "    pizza: <95, 258, 860>\n",
            "    burger: <100, 354, 113>\n",
            "    fries: <90, 365, 150>\n",
            "\n",
            "Use greedy by density to allocate 2000 calories\n",
            "Total value of items taken = 688.0\n",
            "    wine: <89, 123, 907>\n",
            "    beer: <90, 154, 350>\n",
            "    cola: <79, 150, 1000>\n",
            "    apple: <50, 95, 400>\n",
            "    cake: <85, 220, 220>\n",
            "    pizza: <95, 258, 860>\n",
            "    burger: <100, 354, 113>\n",
            "    fries: <90, 365, 150>\n",
            "    donut: <10, 195, 160>\n",
            "\n",
            "Use greedy by weight to allocate 2000 calories\n",
            "Total value of items taken = 688.0\n",
            "    cola: <79, 150, 1000>\n",
            "    wine: <89, 123, 907>\n",
            "    pizza: <95, 258, 860>\n",
            "    apple: <50, 95, 400>\n",
            "    beer: <90, 154, 350>\n",
            "    cake: <85, 220, 220>\n",
            "    donut: <10, 195, 160>\n",
            "    fries: <90, 365, 150>\n",
            "    burger: <100, 354, 113>\n"
          ]
        }
      ],
      "source": [
        "# type your code here\n",
        "names = ['wine', 'beer', 'pizza', 'burger', 'fries','cola', 'apple', 'donut', 'cake']\n",
        "values = [89,90,95,100,90,79,50,10,85] #in this code I add 1 value particulary to the cake since it has no value\n",
        "calories = [123,154,258,354,365,150,95,195,220] #in this code I add 1 calories particulary to the cake since it has no indicated value\n",
        "gram = [907,350,860,113,150,1000,400,160,220]\n",
        "foods = buildMenu(names, values, calories,gram)\n",
        "testGreedys(foods, 2000) # I use  2000 as a key functions"
      ]
    },
    {
      "cell_type": "markdown",
      "id": "1baef0aa",
      "metadata": {
        "id": "1baef0aa"
      },
      "source": [
        "9. Create method to use  Bruteforce algorithm instead of greedy algorithm"
      ]
    },
    {
      "cell_type": "code",
      "execution_count": null,
      "id": "3f61953e",
      "metadata": {
        "id": "3f61953e"
      },
      "outputs": [],
      "source": [
        "def maxVal(toConsider, avail):\n",
        "    \"\"\"Assumes toConsider a list of items, avail a weight\n",
        "       Returns a tuple of the total value of a solution to the\n",
        "         0/1 knapsack problem and the items of that solution\"\"\"\n",
        "    if toConsider == [] or avail == 0:\n",
        "        result = (0, ())\n",
        "    elif toConsider[0].getCost() > avail:\n",
        "        #Explore right branch only\n",
        "        result = maxVal(toConsider[1:], avail)\n",
        "    else:\n",
        "        nextItem = toConsider[0]\n",
        "        #Explore left branch\n",
        "        withVal, withToTake = maxVal(toConsider[1:],\n",
        "                                     avail - nextItem.getCost())\n",
        "        withVal += nextItem.getValue()\n",
        "        #Explore right branch\n",
        "        withoutVal, withoutToTake = maxVal(toConsider[1:], avail)\n",
        "        #Choose better branch\n",
        "        if withVal > withoutVal:\n",
        "            result = (withVal, withToTake + (nextItem,))\n",
        "        else:\n",
        "            result = (withoutVal, withoutToTake)\n",
        "    return result"
      ]
    },
    {
      "cell_type": "code",
      "execution_count": null,
      "id": "601e6dfe",
      "metadata": {
        "id": "601e6dfe"
      },
      "outputs": [],
      "source": [
        "def testMaxVal(foods, maxUnits, printItems = True):\n",
        "    print('Use search tree to allocate', maxUnits,\n",
        "          'calories')\n",
        "    val, taken = maxVal(foods, maxUnits)\n",
        "    print('Total costs of foods taken =', val)\n",
        "    if printItems:\n",
        "        for item in taken:\n",
        "            print('   ', item)"
      ]
    },
    {
      "cell_type": "code",
      "execution_count": null,
      "id": "f4c33d92",
      "metadata": {
        "id": "f4c33d92",
        "colab": {
          "base_uri": "https://localhost:8080/"
        },
        "outputId": "06c87732-afb2-478b-b32b-8a8b1eea4bee"
      },
      "outputs": [
        {
          "output_type": "stream",
          "name": "stdout",
          "text": [
            "Use search tree to allocate 2400 calories\n",
            "Total costs of foods taken = 688\n",
            "    cake: <85, 220, 220>\n",
            "    donut: <10, 195, 160>\n",
            "    apple: <50, 95, 400>\n",
            "    cola: <79, 150, 1000>\n",
            "    fries: <90, 365, 150>\n",
            "    burger: <100, 354, 113>\n",
            "    pizza: <95, 258, 860>\n",
            "    beer: <90, 154, 350>\n",
            "    wine: <89, 123, 907>\n"
          ]
        }
      ],
      "source": [
        "names = ['wine', 'beer', 'pizza', 'burger', 'fries','cola', 'apple', 'donut', 'cake']\n",
        "values = [89,90,95,100,90,79,50,10,85] #in this code I add 1 value particulary to the cake since it has no value\n",
        "calories = [123,154,258,354,365,150,95,195,220] #in this code I add 1 calories particulary to the cake since it has no indicated value\n",
        "gram = [907,350,860,113,150,1000,400,160,220]\n",
        "foods = buildMenu(names, values, calories,gram)\n",
        "testMaxVal(foods, 2400)"
      ]
    },
    {
      "cell_type": "markdown",
      "id": "5e8ee81f",
      "metadata": {
        "id": "5e8ee81f"
      },
      "source": [
        "#### Supplementary Activity:"
      ]
    },
    {
      "cell_type": "markdown",
      "id": "f7eb02e1",
      "metadata": {
        "id": "f7eb02e1"
      },
      "source": [
        "* Choose a real-world problem that solves knapsacks problem\n",
        "* Use the greedy and brute force algorithm to solve knapsacks problem\n"
      ]
    },
    {
      "cell_type": "markdown",
      "source": [
        "##Knapsack Problem 👜:\n",
        "---\n",
        "Presented by: Jann Moises Nyll B. De los Reyes | CPE22S3 |\n",
        "\n",
        "\n",
        "\n",
        "\n",
        "*   Noel is a farmer from Isabela. His farm is known to harvested various local crops .\n",
        "*   He had a small truck which can only carry 7,000 kg. He want to sell his crop to the local market in the city.\n",
        "*   What crops should he include to the truck in order to make more money.\n",
        "\n",
        "\n",
        "\n"
      ],
      "metadata": {
        "id": "9dKJnf03-K0-"
      },
      "id": "9dKJnf03-K0-"
    },
    {
      "cell_type": "code",
      "source": [
        "#using knapsack problem to solve real world problem\n",
        "class Crop(object):\n",
        "    def __init__(self, n, c, w,t):\n",
        "        #make variables private\n",
        "        self.name = n\n",
        "        self.cost = c\n",
        "        self.weight = w\n",
        "        self.transport = t\n",
        "    def getCost(self): #in Php\n",
        "        return self.cost\n",
        "    def getWeight(self): #in kg\n",
        "        return self.weight\n",
        "    def getTransport(self): #hours\n",
        "        return self.transport\n",
        "    def density(self):\n",
        "        return self.getCost()/self.getWeight()\n",
        "    def __str__(self):\n",
        "        return self.name + ': <' + str(self.cost)+ ', ' + str(self.weight) + ', ' + str(self.transport)+'>'"
      ],
      "metadata": {
        "id": "t2d93Geu81H2"
      },
      "id": "t2d93Geu81H2",
      "execution_count": null,
      "outputs": []
    },
    {
      "cell_type": "code",
      "source": [
        "def buildPlan(names, cost,weight,transport):\n",
        "    menu = []\n",
        "    for i in range(len(cost)):\n",
        "        menu.append(Crop(names[i], cost[i],weight[i],transport[i]))\n",
        "    return menu"
      ],
      "metadata": {
        "id": "epLP5ooSKf_c"
      },
      "id": "epLP5ooSKf_c",
      "execution_count": null,
      "outputs": []
    },
    {
      "cell_type": "code",
      "source": [
        "def greedy(items, maxWeight, keyFunction):\n",
        "    \"\"\"Assumes items a list, maxWeight >= 0,         keyFunction maps elements of items to numbers\"\"\"\n",
        "    itemsCopy = sorted(items, key = keyFunction,\n",
        "                       reverse = True)\n",
        "    result = []\n",
        "    totalCost, totalWeight = 0.0, 0.0\n",
        "    for i in range(len(itemsCopy)):\n",
        "        if (totalWeight+itemsCopy[i].getWeight()) <= maxWeight:\n",
        "            result.append(itemsCopy[i])\n",
        "            totalWeight += itemsCopy[i].getWeight()\n",
        "            totalCost += itemsCopy[i].getCost()\n",
        "    return (result, totalCost)"
      ],
      "metadata": {
        "id": "xus9-qL2LJea"
      },
      "id": "xus9-qL2LJea",
      "execution_count": null,
      "outputs": []
    },
    {
      "cell_type": "code",
      "source": [
        "def testGreedy(items, constraint, keyFunction):\n",
        "    taken, val = greedy(items, constraint, keyFunction)\n",
        "    print('Total cost of items taken =', val)\n",
        "    for item in taken:\n",
        "        print('   ', item)\n",
        "\n",
        "def testGreedys(crops, maxUnits):\n",
        "    print('Use greedy by cost to allocate', maxUnits,          'Weight')\n",
        "    testGreedy(crops, maxUnits, Crop.getCost)\n",
        "    print('\\nUse greedy by weight to allocate', maxUnits,          'Weight')\n",
        "    testGreedy(crops, maxUnits, lambda x: 1/Crop.getWeight(x))\n",
        "    print('\\nUse greedy by density to allocate', maxUnits,          'Weight')\n",
        "    testGreedy(crops, maxUnits, Crop.density)\n",
        "    print('\\nUse greedy by transport to allocate',maxUnits,            'Weight') #2\n",
        "    testGreedy(crops,maxUnits, Crop.getTransport)"
      ],
      "metadata": {
        "id": "GWdnnt-bLyuL"
      },
      "id": "GWdnnt-bLyuL",
      "execution_count": null,
      "outputs": []
    },
    {
      "cell_type": "code",
      "source": [
        "names = ['onions', 'tomatoes', 'potato', 'garlic', 'coconut','corn', 'cabbage', 'chili', 'eggplant']\n",
        "cost = [110,60,80,100,35,20,80,120,90] #in this code I add 1 value particulary to the cake since it has no value\n",
        "weight = [750,900,850,750,1000,950,770,750,500] #in this code I add 1 calories particulary to the cake since it has no indicated value\n",
        "transport = [22,27,27,22,36,24,20,19,18]\n",
        "crops = buildPlan(names, cost,weight,transport)\n",
        "testGreedys(crops, 7000)"
      ],
      "metadata": {
        "colab": {
          "base_uri": "https://localhost:8080/"
        },
        "id": "XhGB_7uPMRym",
        "outputId": "0df13940-cb1f-4e4d-e1d4-4067d2005bc5"
      },
      "id": "XhGB_7uPMRym",
      "execution_count": null,
      "outputs": [
        {
          "output_type": "stream",
          "name": "stdout",
          "text": [
            "Use greedy by cost to allocate 7000 Weight\n",
            "Total cost of items taken = 675.0\n",
            "    chili: <120, 750, 19>\n",
            "    onions: <110, 750, 22>\n",
            "    garlic: <100, 750, 22>\n",
            "    eggplant: <90, 500, 18>\n",
            "    potato: <80, 850, 27>\n",
            "    cabbage: <80, 770, 20>\n",
            "    tomatoes: <60, 900, 27>\n",
            "    coconut: <35, 1000, 36>\n",
            "\n",
            "Use greedy by weight to allocate 7000 Weight\n",
            "Total cost of items taken = 660.0\n",
            "    eggplant: <90, 500, 18>\n",
            "    onions: <110, 750, 22>\n",
            "    garlic: <100, 750, 22>\n",
            "    chili: <120, 750, 19>\n",
            "    cabbage: <80, 770, 20>\n",
            "    potato: <80, 850, 27>\n",
            "    tomatoes: <60, 900, 27>\n",
            "    corn: <20, 950, 24>\n",
            "\n",
            "Use greedy by density to allocate 7000 Weight\n",
            "Total cost of items taken = 675.0\n",
            "    eggplant: <90, 500, 18>\n",
            "    chili: <120, 750, 19>\n",
            "    onions: <110, 750, 22>\n",
            "    garlic: <100, 750, 22>\n",
            "    cabbage: <80, 770, 20>\n",
            "    potato: <80, 850, 27>\n",
            "    tomatoes: <60, 900, 27>\n",
            "    coconut: <35, 1000, 36>\n",
            "\n",
            "Use greedy by transport to allocate 7000 Weight\n",
            "Total cost of items taken = 605.0\n",
            "    coconut: <35, 1000, 36>\n",
            "    tomatoes: <60, 900, 27>\n",
            "    potato: <80, 850, 27>\n",
            "    corn: <20, 950, 24>\n",
            "    onions: <110, 750, 22>\n",
            "    garlic: <100, 750, 22>\n",
            "    cabbage: <80, 770, 20>\n",
            "    chili: <120, 750, 19>\n"
          ]
        }
      ]
    },
    {
      "cell_type": "code",
      "source": [
        "#using brute force to solve the knapsacks problem\n",
        "def maxVal(toConsider, avail):\n",
        "    \"\"\"Assumes toConsider a list of items, avail a weight\n",
        "       Returns a tuple of the total value of a solution to the\n",
        "         0/1 knapsack problem and the items of that solution\"\"\"\n",
        "    if toConsider == [] or avail == 0:\n",
        "        result = (0, ())\n",
        "    elif toConsider[0].getCost() > avail:\n",
        "        #Explore right branch only\n",
        "        result = maxVal(toConsider[1:], avail)\n",
        "    else:\n",
        "        nextItem = toConsider[0]\n",
        "        #Explore left branch\n",
        "        withVal, withToTake = maxVal(toConsider[1:],\n",
        "                                     avail - nextItem.getCost())\n",
        "        withVal += nextItem.getCost()\n",
        "        #Explore right branch\n",
        "        withoutVal, withoutToTake = maxVal(toConsider[1:], avail)\n",
        "        #Choose better branch\n",
        "        if withVal > withoutVal:\n",
        "            result = (withVal, withToTake + (nextItem,))\n",
        "        else:\n",
        "            result = (withoutVal, withoutToTake)\n",
        "    return result"
      ],
      "metadata": {
        "id": "fTwXsBNy8rLo"
      },
      "id": "fTwXsBNy8rLo",
      "execution_count": null,
      "outputs": []
    },
    {
      "cell_type": "code",
      "source": [
        "def testMaxVal(crops, maxUnits, printItems = True):\n",
        "    print('Use search tree to allocate', maxUnits,\n",
        "          'calories')\n",
        "    val, taken = maxVal(crops, maxUnits)\n",
        "    print('Total costs of foods taken =', val)\n",
        "    if printItems:\n",
        "        for item in taken:\n",
        "            print('   ', item)"
      ],
      "metadata": {
        "id": "HeSqTtR1Sbi5"
      },
      "id": "HeSqTtR1Sbi5",
      "execution_count": null,
      "outputs": []
    },
    {
      "cell_type": "code",
      "source": [
        "names = ['onions', 'tomatoes', 'potato', 'garlic', 'coconut','corn', 'cabbage', 'chili', 'eggplant']\n",
        "cost = [110,60,80,100,35,20,80,120,90] #in this code I add 1 value particulary to the cake since it has no value\n",
        "weight = [750,900,850,750,1000,950,770,750,500] #in this code I add 1 calories particulary to the cake since it has no indicated value\n",
        "transport = [22,27,27,22,36,24,20,19,18]\n",
        "crops = buildPlan(names, cost,weight,transport)\n",
        "testMaxVal(crops, 7000)"
      ],
      "metadata": {
        "colab": {
          "base_uri": "https://localhost:8080/"
        },
        "id": "f6WwgwQrSjaQ",
        "outputId": "fc7cade9-c941-4b2e-9316-e75b5c41b951"
      },
      "id": "f6WwgwQrSjaQ",
      "execution_count": null,
      "outputs": [
        {
          "output_type": "stream",
          "name": "stdout",
          "text": [
            "Use search tree to allocate 7000 calories\n",
            "Total costs of foods taken = 695\n",
            "    eggplant: <90, 500, 18>\n",
            "    chili: <120, 750, 19>\n",
            "    cabbage: <80, 770, 20>\n",
            "    corn: <20, 950, 24>\n",
            "    coconut: <35, 1000, 36>\n",
            "    garlic: <100, 750, 22>\n",
            "    potato: <80, 850, 27>\n",
            "    tomatoes: <60, 900, 27>\n",
            "    onions: <110, 750, 22>\n"
          ]
        }
      ]
    },
    {
      "cell_type": "markdown",
      "id": "8bbdd39c",
      "metadata": {
        "id": "8bbdd39c"
      },
      "source": [
        "#### Conclusion:"
      ]
    },
    {
      "cell_type": "markdown",
      "id": "fb608ce3",
      "metadata": {
        "id": "fb608ce3"
      },
      "source": [
        "Optimization requires an understanding of the fact that Knapsack difficulties are a frequent occurrence in our day-to-day activities. As a result, algorithms like brute force and greedy algorithms perform well. These algorithms can identify the least ideal solution or use the most ideal one to solve a problem. In conclusion, despite the complexity of the provided code, I was able to tackle optimization challenges by using greedy and brute force approaches."
      ]
    }
  ],
  "metadata": {
    "kernelspec": {
      "display_name": "Python 3",
      "language": "python",
      "name": "python3"
    },
    "language_info": {
      "codemirror_mode": {
        "name": "ipython",
        "version": 3
      },
      "file_extension": ".py",
      "mimetype": "text/x-python",
      "name": "python",
      "nbconvert_exporter": "python",
      "pygments_lexer": "ipython3",
      "version": "3.7.10"
    },
    "colab": {
      "provenance": [],
      "include_colab_link": true
    }
  },
  "nbformat": 4,
  "nbformat_minor": 5
}