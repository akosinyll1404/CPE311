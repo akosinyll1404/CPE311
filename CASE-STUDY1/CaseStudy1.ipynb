{
  "nbformat": 4,
  "nbformat_minor": 0,
  "metadata": {
    "colab": {
      "provenance": [],
      "authorship_tag": "ABX9TyOfd8gwLq1Mlij7xW4D3T/I",
      "include_colab_link": true
    },
    "kernelspec": {
      "name": "python3",
      "display_name": "Python 3"
    },
    "language_info": {
      "name": "python"
    }
  },
  "cells": [
    {
      "cell_type": "markdown",
      "metadata": {
        "id": "view-in-github",
        "colab_type": "text"
      },
      "source": [
        "<a href=\"https://colab.research.google.com/github/akosinyll1404/CPE311/blob/main/CASE-STUDY1/CaseStudy1.ipynb\" target=\"_parent\"><img src=\"https://colab.research.google.com/assets/colab-badge.svg\" alt=\"Open In Colab\"/></a>"
      ]
    },
    {
      "cell_type": "code",
      "source": [
        "'''\n",
        "Optimizing Reservoir Releases by Minimizing the Maximum release from a  reservoir\n",
        "\n",
        "Problem:\n",
        "    Efficiently operating reservoirs involves making decisions about water release,\n",
        "storage, and inflow management. During flood seasons, reservoirs must balance\n",
        "the need for dam safety (releasing water) with minimizing downstream flood\n",
        "risk (releasing as little water as possible).\n",
        "\n",
        "Things to note:\n",
        "- Choose the best optimal release\n",
        "Approach:\n",
        "1.) Create a function that determines the release policy to maximize the total inflow\n",
        "2.) It should be display the optimal release\n",
        "'''"
      ],
      "metadata": {
        "id": "krGCaWEZDkI_"
      },
      "execution_count": null,
      "outputs": []
    },
    {
      "cell_type": "code",
      "source": [
        "def find_optimal_release(inflow, weights, k):\n",
        "    n = len(inflow)\n",
        "    dp = [[0] * (k + 1) for _ in range(n + 1)]\n",
        "\n",
        "    # Initialize the DP table\n",
        "    for i in range(1, n + 1):\n",
        "        for j in range(1, k + 1):\n",
        "            dp[i][j] = max(dp[i - 1][j], dp[i - 1][j - weights[i - 1]] + inflow[i - 1])\n",
        "\n",
        "    # Backtrack to find the optimal release trajectory\n",
        "    solution = []\n",
        "    i = n\n",
        "    j = k\n",
        "    while j > 0 and i > 0:\n",
        "        if dp[i][j] != dp[i - 1][j]:\n",
        "            solution.append(i)\n",
        "            j -= weights[i - 1]\n",
        "        i -= 1\n",
        "    return solution\n",
        "\n",
        "# Test :\n",
        "inflow = [10, 15, 20, 25, 30, 35, 40]  # Example inflow data (in cubic meter)\n",
        "weights = [2, 3, 4, 5, 6, 7, 8]      # Example weights (release amounts in cubic meter)\n",
        "k = 15                       # Maximum allowable release\n",
        "\n",
        "optimal_release = find_optimal_release(inflow, weights, k)\n",
        "print(\"Optimal release indices:\", optimal_release)\n"
      ],
      "metadata": {
        "colab": {
          "base_uri": "https://localhost:8080/",
          "height": 0
        },
        "id": "oNom5QnCZXrl",
        "outputId": "70e04c1f-728a-450c-d1c1-7b6011dec98a"
      },
      "execution_count": 10,
      "outputs": [
        {
          "output_type": "stream",
          "name": "stdout",
          "text": [
            "Optimal release indices: [7, 5, 4]\n"
          ]
        }
      ]
    },
    {
      "cell_type": "markdown",
      "source": [
        "This algorithm optimally determines the release policy to maximize the total inflow while ensuring that the total release does not exceed the maximum allowable release at any time step."
      ],
      "metadata": {
        "id": "2iO1g9sTaBrU"
      }
    }
  ]
}